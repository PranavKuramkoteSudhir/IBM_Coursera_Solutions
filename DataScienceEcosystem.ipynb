{
 "cells": [
  {
   "cell_type": "markdown",
   "id": "2c706917",
   "metadata": {},
   "source": [
    "# Data Science Tools and Ecosystem\n"
   ]
  },
  {
   "cell_type": "markdown",
   "id": "97b70ee2",
   "metadata": {},
   "source": [
    "In this notebook, Data Science Tools and Ecosystem are summarized.\n"
   ]
  },
  {
   "cell_type": "markdown",
   "id": "0df3ad8c",
   "metadata": {},
   "source": [
    "Some of the popular languages that Data Scientists use are:    \n",
    "1. Python\n",
    "2. R\n",
    "3. c++\n",
    "4. java\n",
    "\n"
   ]
  },
  {
   "cell_type": "markdown",
   "id": "0b4e4d17",
   "metadata": {},
   "source": [
    "Some of the commonly used libraries used by Data Scientists include:\n",
    "\n",
    "    1.TensorFlow\n",
    "    2.Pandas\n",
    "    3.Numpy\n",
    "    4.Scipy\n",
    "    5.keras\n"
   ]
  },
  {
   "cell_type": "markdown",
   "id": "a602675c",
   "metadata": {},
   "source": [
    "|Data Science Tools|\n",
    "|---|\n",
    "|Jupyter Notebook|\n",
    "|Apache Hadoop|\n",
    "|Tensor flow|\n"
   ]
  },
  {
   "cell_type": "code",
   "execution_count": 8,
   "id": "8a15fd43",
   "metadata": {},
   "outputs": [],
   "source": [
    "### Below are a few examples of evaluating arithmetic expressions in Python"
   ]
  },
  {
   "cell_type": "code",
   "execution_count": 10,
   "id": "2aff9fc2",
   "metadata": {},
   "outputs": [
    {
     "data": {
      "text/plain": [
       "17"
      ]
     },
     "execution_count": 10,
     "metadata": {},
     "output_type": "execute_result"
    }
   ],
   "source": [
    "#this a simple arithmetic expression to mutiply then add integers\n",
    "(3*4)+5"
   ]
  },
  {
   "cell_type": "code",
   "execution_count": 11,
   "id": "10fe8e58",
   "metadata": {},
   "outputs": [
    {
     "data": {
      "text/plain": [
       "3.3333333333333335"
      ]
     },
     "execution_count": 11,
     "metadata": {},
     "output_type": "execute_result"
    }
   ],
   "source": [
    "#This will convert 200 minutes to hours by diving by 60\n",
    "200/60"
   ]
  },
  {
   "cell_type": "markdown",
   "id": "24b265f0",
   "metadata": {},
   "source": [
    "__Objectives:__\n",
    "* List popular languages for Data Science\n",
    "* List popular libraries for Data Science\n",
    "* List popular machine learning tools for datascience\n",
    "* How to use Jupyter notebook\n",
    "* How to use Git hub"
   ]
  },
  {
   "cell_type": "markdown",
   "id": "a5a1fad0",
   "metadata": {},
   "source": [
    "## Author\n",
    "Pranav Kuramkote Sudhir"
   ]
  },
  {
   "cell_type": "code",
   "execution_count": null,
   "id": "bca28326",
   "metadata": {},
   "outputs": [],
   "source": []
  }
 ],
 "metadata": {
  "kernelspec": {
   "display_name": "Python 3 (ipykernel)",
   "language": "python",
   "name": "python3"
  },
  "language_info": {
   "codemirror_mode": {
    "name": "ipython",
    "version": 3
   },
   "file_extension": ".py",
   "mimetype": "text/x-python",
   "name": "python",
   "nbconvert_exporter": "python",
   "pygments_lexer": "ipython3",
   "version": "3.11.4"
  }
 },
 "nbformat": 4,
 "nbformat_minor": 5
}
